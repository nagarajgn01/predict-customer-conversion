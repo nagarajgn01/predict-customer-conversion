{
  "nbformat": 4,
  "nbformat_minor": 0,
  "metadata": {
    "colab": {
      "name": "CustomerJourney LSTM_attention & ANN.ipynb",
      "provenance": [],
      "collapsed_sections": []
    },
    "kernelspec": {
      "name": "python3",
      "display_name": "Python 3"
    },
    "accelerator": "TPU"
  },
  "cells": [
    {
      "cell_type": "code",
      "metadata": {
        "id": "SfkI5cOx2rzj",
        "colab": {
          "base_uri": "https://localhost:8080/",
          "height": 34
        },
        "outputId": "c7b290bd-83be-402e-a2c0-0ad4a64c84ab"
      },
      "source": [
        "# Required Library\n",
        "import os\n",
        "import numpy as np\n",
        "import random\n",
        "import pandas as pd\n",
        "import tensorflow as tf\n",
        "from keras.utils import to_categorical\n",
        "from keras.preprocessing.text import Tokenizer\n",
        "import keras.backend as K\n",
        "from sklearn.metrics import roc_curve,confusion_matrix,f1_score, roc_auc_score\n",
        "from keras.layers import Concatenate, Dot, Input, LSTM,SimpleRNN,GRU\n",
        "from keras.layers import RepeatVector, Dense, Activation, BatchNormalization\n",
        "from keras.layers import Reshape, Dropout, Add, Subtract, Flatten, Embedding\n",
        "from keras.models import load_model, Model\n",
        "import matplotlib.pyplot as plt"
      ],
      "execution_count": null,
      "outputs": [
        {
          "output_type": "stream",
          "text": [
            "Using TensorFlow backend.\n"
          ],
          "name": "stderr"
        }
      ]
    },
    {
      "cell_type": "code",
      "metadata": {
        "id": "R_um8N4WFf5u"
      },
      "source": [
        "# Load function from rnn_utils.py file\n",
        "os.chdir('/content/drive/My Drive/My DataScience Project/Notebook')\n",
        "from rnn_utils import *\n",
        "\n",
        "#Connect to GDrive & Dataset Path\n",
        "os.chdir('/content/drive/My Drive/My DataScience Project/Dataset')\n",
        "data = pd.read_csv('Customer_Data.csv')"
      ],
      "execution_count": null,
      "outputs": []
    },
    {
      "cell_type": "code",
      "metadata": {
        "id": "3-bNtMgF4ZKu"
      },
      "source": [
        "# Hyperparameters\n",
        "n_s =192 # 385  # Hidden state of LSTM \n",
        "n_a =96 # 288 # Hidden units of LSTM\n",
        "n_s_1 =192 #25 # 192 # 385 # Units in 1st Hidden layer of ANN\n",
        "n_s_2 =96 # 19 # 96 # 288 # Units in 2nd Hidden layer of ANN"
      ],
      "execution_count": null,
      "outputs": []
    },
    {
      "cell_type": "code",
      "metadata": {
        "id": "8bshR3ss2mDq"
      },
      "source": [
        "# Preprocessing Customer Path to on hot encoding for LSTM input & numerical variables for ANN\n",
        "def preprocess_data(data):\n",
        "  cat(data,'screen_list','screen_len',',')\n",
        "  text = data.screen_list\n",
        "  seq_length = max(data.screen_len)+1\n",
        "  token = Tokenizer()\n",
        "  token.fit_on_texts(text)\n",
        "  vocab_size = len(token.word_index)+1\n",
        "  encode = token.texts_to_sequences(text)\n",
        "  pad_sequence = tf.keras.preprocessing.sequence.pad_sequences\n",
        "  one_hot_encode =pad_sequence(encode,maxlen=seq_length,padding='post',truncating='post')\n",
        "  idx = [x for x in range(data.shape[0])]\n",
        "  np.random.seed(111)\n",
        "  random.shuffle(idx)\n",
        "  tr_idx = idx[0:int(0.9*len(idx))]\n",
        "  te_idx = idx[int(0.9*len(idx)):]\n",
        "  X_train = one_hot_encode[tr_idx]\n",
        "  X_test = one_hot_encode[te_idx]\n",
        "  all_X = np.array(list(map(lambda x: to_categorical(x, num_classes=vocab_size),one_hot_encode)), ndmin=3)\n",
        "  X_tr = np.array(list(map(lambda x: to_categorical(x, num_classes=vocab_size), X_train)), ndmin=3)\n",
        "  X_te = np.array(list(map(lambda x: to_categorical(x, num_classes=vocab_size), X_test)), ndmin=3)\n",
        "  ds = data.drop(columns=['enrolled_date','screen_len','screen_list','user'])\n",
        "  ds.hour = ds.hour.str[:3]\n",
        "  ds.hour = ds.hour.astype(int)\n",
        "  ds.first_open = pd.to_datetime(ds.first_open,format='%Y-%m-%d %H:%M:%S.%f')\n",
        "  ds['day']=ds.first_open.dt.day\n",
        "  ds['month']=ds.first_open.dt.month\n",
        "  X = ds.drop(columns=['enrolled','first_open'])\n",
        "  y = ds.enrolled\n",
        "  X_cust_tr = X.iloc[tr_idx,:]\n",
        "  X_cust_te = X.iloc[te_idx,:]\n",
        "  y_tr = y.iloc[tr_idx]\n",
        "  y_te = y.iloc[te_idx]\n",
        "  Numeric_var_count = X_cust_tr.shape[1]\n",
        "  s0_init_tr = np.zeros((len(tr_idx),n_s))\n",
        "  s0_init_te = np.zeros((len(te_idx),n_s))\n",
        "  paths = text[tr_idx].reset_index().screen_list\n",
        "  return dict({'Cust_Path_Train':X_tr,'Cust_Path_Test':X_te,'Cust_Demo_Train':X_cust_tr,'Cust_Demo_Test':X_cust_te,\n",
        "               'Enrolled_Train':y_tr,'Enrolled_Test':y_te,'Seq_Len':seq_length,'Vocab_Size':vocab_size,\n",
        "               'Other_Var_Count':Numeric_var_count,'s0_tr':s0_init_tr,'s0_te':s0_init_te,'paths':paths,\n",
        "               'all_y':y,'all_X':all_X,'One_hot':one_hot_encode,'Word_index':token.word_index})\n",
        "  \n",
        "# One-Step-Attention for LSTM\n",
        "def one_step_attention(a, s_prev):\n",
        "  repeator = RepeatVector(myDict['Seq_Len'])\n",
        "  concatenator = Concatenate(axis=-1)\n",
        "  densor1 = Dense(10, activation = \"tanh\")\n",
        "  densor2 = Dense(1, activation = \"relu\")\n",
        "  activator = Activation(softmax, name='attention_weights') # We are using a custom softmax loaded in this notebook\n",
        "  dotor = Dot(axes = 1)\n",
        "  s_prev = repeator(s_prev)\n",
        "  concat = concatenator([a,s_prev])\n",
        "  e = densor1(concat)\n",
        "  energies = densor2(e)\n",
        "  alphas = activator(energies)\n",
        "  context = dotor([alphas,a])\n",
        "  return context\n",
        "\n",
        "def build_model():\n",
        "  input_att = Input(shape=(myDict['Seq_Len'],myDict['Vocab_Size']),name='LSTM_input_path')\n",
        "  s0 = Input(shape=(n_s,), name='s0_hidden_state_input')\n",
        "  a = LSTM(n_a,return_sequences=True)(input_att) # LSTM Unit\n",
        "  context = one_step_attention(a,s0) # attention unit\n",
        "  c = Flatten()(context)\n",
        "  out_att = Dense(32, activation = 'relu', name='output_path')(c)\n",
        "  numeric_var = Input(shape=(myDict['Other_Var_Count'],),name='input_continous_var')\n",
        "  out_numeric_var = Dense(n_s_1,activation='relu')(numeric_var)\n",
        "  out_numeric_var = Dropout(0.2)(out_numeric_var)\n",
        "  out_numeric_var = BatchNormalization()(out_numeric_var)\n",
        "  out_numeric_var = Dense(n_s_2,activation='relu')(out_numeric_var)\n",
        "  out_numeric_var = Dropout(0.2)(out_numeric_var)\n",
        "  out_numeric_var = BatchNormalization()(out_numeric_var)\n",
        "  out_numeric_var = Dense(32,activation='relu',name='output_continous_var')(out_numeric_var)\n",
        "  added = Add()([out_att, out_numeric_var])\n",
        "  out_all = Dense(1,activation='sigmoid')(added)\n",
        "  model = Model([input_att,s0,numeric_var],out_all)\n",
        "  return model\n",
        "\n",
        "# Train Model\n",
        "def train_model(save_name,p_epochs=10,p_batch_size=128,loss='binary_crossentropy',opt='adam',metrics=['accuracy']):\n",
        "  model.compile(loss=loss,optimizer=opt,metrics=metrics)\n",
        "  history = model.fit([myDict['Cust_Path_Train'],myDict['s0_tr'],myDict['Cust_Demo_Train']], myDict['Enrolled_Train'], epochs=p_epochs, batch_size=p_batch_size,verbose=1)\n",
        "  plot_loss(history,p_epochs)\n",
        "  plot_acc(history,p_epochs)\n",
        "  save_weight(save_name,model)\n",
        "  print(model.summary())\n",
        "\n",
        "# Determine critical path\n",
        "def critical_paths():\n",
        "  prob = model.predict([myDict['Cust_Path_Train'],myDict['s0_tr'],myDict['Cust_Demo_Train']])\n",
        "  cp_idx = sorted(range(len(prob)), key=lambda k: prob[k], reverse=True)\n",
        "  cp_p = [myDict['paths'][p] for p in cp_idx[0:100]]\n",
        "  cp_p_2 = set(map(tuple, cp_p))\n",
        "  return list(map(list,cp_p_2))\n",
        "\n",
        "# Weightage of screen which have more weights and count of total visit cummulative to all users\n",
        "def attributes():\n",
        "  layer = model.layers[11] # Attention Activator Layer\n",
        "  all_X = myDict['all_X']\n",
        "  y=myDict['all_y']\n",
        "  newlines = myDict['One_hot']\n",
        "  m_all,_,_ = all_X.shape\n",
        "  s_all = np.zeros((m_all, n_s))\n",
        "  f_f = K.function([model.input[0],model.input[1]], [layer.output])\n",
        "  r=f_f([all_X[y==1],s_all[y==1]])[0].reshape(all_X[y==1].shape[0],all_X[y==1].shape[1])\n",
        "  att_f = {m:0 for m in range(1,myDict['Vocab_Size'])}\n",
        "  att_count_f = {m:0 for m in range(1,myDict['Vocab_Size'])}\n",
        "  chan_used = newlines[y==1]\n",
        "  for m in range(chan_used.shape[0]):\n",
        "    for n in range(chan_used.shape[1]):\n",
        "      if chan_used[m,n]!=0:\n",
        "        att_f[chan_used[m,n]] += round(r[m,n],3)\n",
        "        att_count_f[chan_used[m,n]] += 1\n",
        "  return att_f,att_count_f\n",
        "\n",
        "# Get Weight for each screen and no of counts. Return Summary\n",
        "def get_summary():\n",
        "  weights,count = attributes()\n",
        "  df_WordIndex = pd.DataFrame(list(myDict['Word_index'].items()),columns = ['ScreenName','ScreenIndex'])\n",
        "  df_weights = pd.DataFrame(list(weights.items()),columns = ['Index','Weights'])\n",
        "  df_Count = pd.DataFrame(list(count.items()),columns = ['Index','Count'])\n",
        "  df_Summary = df_WordIndex.copy()\n",
        "  df_Summary['Weights']=df_weights['Weights']\n",
        "  df_Summary['Count']=df_Count['Count']\n",
        "  return df_Summary"
      ],
      "execution_count": null,
      "outputs": []
    },
    {
      "cell_type": "code",
      "metadata": {
        "id": "KGQKUf7545T-"
      },
      "source": [
        "# Preprocess raw data\n",
        "myDict = preprocess_data(data)"
      ],
      "execution_count": null,
      "outputs": []
    },
    {
      "cell_type": "code",
      "metadata": {
        "id": "HJse96b9HdBt"
      },
      "source": [
        "# Build\n",
        "model = build_model()"
      ],
      "execution_count": null,
      "outputs": []
    },
    {
      "cell_type": "code",
      "metadata": {
        "id": "SVTBnleNHjDw"
      },
      "source": [
        "# Train, save and validate loss & accuracy\n",
        "#train_model('model_weights_LSTM',p_epochs=100) # model_weights - LSTM, 192,96,192,96 # model_weights_LSTM_DrBN_Half (192,96,192,96)"
      ],
      "execution_count": null,
      "outputs": []
    },
    {
      "cell_type": "code",
      "metadata": {
        "id": "PiMQK_qfPjCO"
      },
      "source": [
        "# Load Weights\n",
        "load_weight('model_weights_LSTM',model) # model_weights_LSTM_2 # model_weights_LSTM_DrBN"
      ],
      "execution_count": null,
      "outputs": []
    },
    {
      "cell_type": "code",
      "metadata": {
        "id": "mD9CjNW7GqBO",
        "colab": {
          "base_uri": "https://localhost:8080/",
          "height": 918
        },
        "outputId": "9298720d-0a4a-4b0f-c53c-e1820dee750d"
      },
      "source": [
        "model.summary()"
      ],
      "execution_count": null,
      "outputs": [
        {
          "output_type": "stream",
          "text": [
            "Model: \"model_1\"\n",
            "__________________________________________________________________________________________________\n",
            "Layer (type)                    Output Shape         Param #     Connected to                     \n",
            "==================================================================================================\n",
            "LSTM_input_path (InputLayer)    (None, 80, 138)      0                                            \n",
            "__________________________________________________________________________________________________\n",
            "s0_hidden_state_input (InputLay (None, 192)          0                                            \n",
            "__________________________________________________________________________________________________\n",
            "lstm_1 (LSTM)                   (None, 80, 96)       90240       LSTM_input_path[0][0]            \n",
            "__________________________________________________________________________________________________\n",
            "repeat_vector_1 (RepeatVector)  (None, 80, 192)      0           s0_hidden_state_input[0][0]      \n",
            "__________________________________________________________________________________________________\n",
            "input_continous_var (InputLayer (None, 9)            0                                            \n",
            "__________________________________________________________________________________________________\n",
            "concatenate_1 (Concatenate)     (None, 80, 288)      0           lstm_1[0][0]                     \n",
            "                                                                 repeat_vector_1[0][0]            \n",
            "__________________________________________________________________________________________________\n",
            "dense_3 (Dense)                 (None, 192)          1920        input_continous_var[0][0]        \n",
            "__________________________________________________________________________________________________\n",
            "dense_1 (Dense)                 (None, 80, 10)       2890        concatenate_1[0][0]              \n",
            "__________________________________________________________________________________________________\n",
            "dropout_1 (Dropout)             (None, 192)          0           dense_3[0][0]                    \n",
            "__________________________________________________________________________________________________\n",
            "dense_2 (Dense)                 (None, 80, 1)        11          dense_1[0][0]                    \n",
            "__________________________________________________________________________________________________\n",
            "batch_normalization_1 (BatchNor (None, 192)          768         dropout_1[0][0]                  \n",
            "__________________________________________________________________________________________________\n",
            "attention_weights (Activation)  (None, 80, 1)        0           dense_2[0][0]                    \n",
            "__________________________________________________________________________________________________\n",
            "dense_4 (Dense)                 (None, 96)           18528       batch_normalization_1[0][0]      \n",
            "__________________________________________________________________________________________________\n",
            "dot_1 (Dot)                     (None, 1, 96)        0           attention_weights[0][0]          \n",
            "                                                                 lstm_1[0][0]                     \n",
            "__________________________________________________________________________________________________\n",
            "dropout_2 (Dropout)             (None, 96)           0           dense_4[0][0]                    \n",
            "__________________________________________________________________________________________________\n",
            "flatten_1 (Flatten)             (None, 96)           0           dot_1[0][0]                      \n",
            "__________________________________________________________________________________________________\n",
            "batch_normalization_2 (BatchNor (None, 96)           384         dropout_2[0][0]                  \n",
            "__________________________________________________________________________________________________\n",
            "output_path (Dense)             (None, 32)           3104        flatten_1[0][0]                  \n",
            "__________________________________________________________________________________________________\n",
            "output_continous_var (Dense)    (None, 32)           3104        batch_normalization_2[0][0]      \n",
            "__________________________________________________________________________________________________\n",
            "add_1 (Add)                     (None, 32)           0           output_path[0][0]                \n",
            "                                                                 output_continous_var[0][0]       \n",
            "__________________________________________________________________________________________________\n",
            "dense_5 (Dense)                 (None, 1)            33          add_1[0][0]                      \n",
            "==================================================================================================\n",
            "Total params: 120,982\n",
            "Trainable params: 120,406\n",
            "Non-trainable params: 576\n",
            "__________________________________________________________________________________________________\n"
          ],
          "name": "stdout"
        }
      ]
    },
    {
      "cell_type": "code",
      "metadata": {
        "id": "HwCVXgu5HUz6",
        "colab": {
          "base_uri": "https://localhost:8080/",
          "height": 419
        },
        "outputId": "51095a40-6be3-4a83-d68f-7f7729d8ac10"
      },
      "source": [
        "# Accuracy and AUC of Test Data\n",
        "print('\\n\\n 1. Test dataset performance:\\n')\n",
        "auc_score_test(0.5,model,myDict)"
      ],
      "execution_count": null,
      "outputs": [
        {
          "output_type": "stream",
          "text": [
            "\n",
            "\n",
            " 1. Test dataset performance:\n",
            "\n",
            "[[1711  176]\n",
            " [ 270 2843]]\n",
            "Accuracy: 0.911, AUC: 0.972\n",
            "None\n"
          ],
          "name": "stdout"
        },
        {
          "output_type": "display_data",
          "data": {
            "image/png": "[encoded data removed]",
            "text/plain": [
              "<Figure size 432x288 with 1 Axes>"
            ]
          },
          "metadata": {
            "tags": [],
            "needs_background": "light"
          }
        }
      ]
    },
    {
      "cell_type": "code",
      "metadata": {
        "id": "nybEa2ZpHYTP",
        "colab": {
          "base_uri": "https://localhost:8080/",
          "height": 419
        },
        "outputId": "7bbbcca7-2505-453b-d47c-4a9e05cf1706"
      },
      "source": [
        "# Accuracy and AUC of Training Data\n",
        "print('\\n\\n 2. Train performance:\\n')\n",
        "auc_score_train(0.5,model,myDict)"
      ],
      "execution_count": null,
      "outputs": [
        {
          "output_type": "stream",
          "text": [
            "\n",
            "\n",
            " 2. Train performance:\n",
            "\n",
            "[[15378  1661]\n",
            " [ 2276 25685]]\n",
            "Accuracy: 0.913, AUC: 0.974\n",
            "None\n"
          ],
          "name": "stdout"
        },
        {
          "output_type": "display_data",
          "data": {
            "image/png": "[encoded data removed]",
            "text/plain": [
              "<Figure size 432x288 with 1 Axes>"
            ]
          },
          "metadata": {
            "tags": [],
            "needs_background": "light"
          }
        }
      ]
    },
    {
      "cell_type": "code",
      "metadata": {
        "id": "cJaeiXb2br4U"
      },
      "source": [
        "# Get top 100 unique path with high prediction probability\n",
        "lt = critical_paths()"
      ],
      "execution_count": null,
      "outputs": []
    },
    {
      "cell_type": "code",
      "metadata": {
        "id": "M3RNDF9QeBlG",
        "colab": {
          "base_uri": "https://localhost:8080/",
          "height": 1000
        },
        "outputId": "28e48460-9c7f-48c4-db54-22dcd4f34515"
      },
      "source": [
        "# top 5 path\n",
        "lt[:5]"
      ],
      "execution_count": null,
      "outputs": [
        {
          "output_type": "execute_result",
          "data": {
            "text/plain": [
              "[['product_review',\n",
              "  'product_review2',\n",
              "  'ScanPreview',\n",
              "  'VerifyDateOfBirth',\n",
              "  'VerifyCountry',\n",
              "  'VerifyPhone',\n",
              "  'VerifyToken',\n",
              "  'VerifySSN',\n",
              "  'MLWebView',\n",
              "  'product_review',\n",
              "  'SelectInstitution',\n",
              "  'BankVerification',\n",
              "  'product_review',\n",
              "  'product_review',\n",
              "  'product_review',\n",
              "  'Loan4'],\n",
              " ['Cycle',\n",
              "  'Splash',\n",
              "  'Home',\n",
              "  'product_review',\n",
              "  'product_review',\n",
              "  'product_review3',\n",
              "  'location',\n",
              "  'VerifyCountry',\n",
              "  'product_review',\n",
              "  'product_review',\n",
              "  'Leaderboard',\n",
              "  'Loan2',\n",
              "  'Credit3Container',\n",
              "  'Institutions',\n",
              "  'VerifyDateOfBirth',\n",
              "  'VerifyPhone',\n",
              "  'VerifySSN',\n",
              "  'Credit1',\n",
              "  'Credit3Dashboard'],\n",
              " ['idscreen',\n",
              "  'product_review',\n",
              "  'Home',\n",
              "  'product_review',\n",
              "  'product_review',\n",
              "  'product_review3',\n",
              "  'VerifyDateOfBirth',\n",
              "  'location',\n",
              "  'VerifyCountry',\n",
              "  'VerifyPhone',\n",
              "  'VerifyToken',\n",
              "  'ResendToken',\n",
              "  'product_review',\n",
              "  'product_review2',\n",
              "  'product_review3',\n",
              "  'product_review',\n",
              "  'VerifySSN',\n",
              "  'WebView'],\n",
              " ['idscreen',\n",
              "  'joinscreen',\n",
              "  'Cycle',\n",
              "  'Credit3Container',\n",
              "  'ScanPreview',\n",
              "  'VerifyMobile',\n",
              "  'VerifySSN',\n",
              "  'location',\n",
              "  'VerifyDateOfBirth',\n",
              "  'Credit1',\n",
              "  'Institutions',\n",
              "  'Loan2',\n",
              "  'Home',\n",
              "  'Alerts',\n",
              "  'CC1',\n",
              "  'CC1Category',\n",
              "  'CC3'],\n",
              " ['Cycle',\n",
              "  'Home',\n",
              "  'Loan2',\n",
              "  'Institutions',\n",
              "  'Credit3Container',\n",
              "  'ReferralContainer',\n",
              "  'product_review',\n",
              "  'product_review',\n",
              "  'product_review3',\n",
              "  'ScanPreview',\n",
              "  'VerifyDateOfBirth',\n",
              "  'location',\n",
              "  'VerifyCountry',\n",
              "  'VerifyPhone',\n",
              "  'VerifyToken',\n",
              "  'product_review',\n",
              "  'product_review',\n",
              "  'VerifySSN',\n",
              "  'product_review',\n",
              "  'SelectInstitution']]"
            ]
          },
          "metadata": {
            "tags": []
          },
          "execution_count": 13
        }
      ]
    },
    {
      "cell_type": "code",
      "metadata": {
        "id": "ZjPOL4B0qeTp"
      },
      "source": [
        "# Get Screen Details which has more weightage and most visit count when conversion is True\n",
        "df_Summary = get_summary()"
      ],
      "execution_count": null,
      "outputs": []
    },
    {
      "cell_type": "code",
      "metadata": {
        "id": "kbNe1kq05Ql8",
        "colab": {
          "base_uri": "https://localhost:8080/",
          "height": 204
        },
        "outputId": "d52c14e3-0cb6-42bb-cb60-c4b9374728ac"
      },
      "source": [
        "# Top 5 screen\n",
        "df_Summary[:][{'ScreenName','Weights','Count'}].head()"
      ],
      "execution_count": null,
      "outputs": [
        {
          "output_type": "execute_result",
          "data": {
            "text/html": [
              "<div>\n",
              "<style scoped>\n",
              "    .dataframe tbody tr th:only-of-type {\n",
              "        vertical-align: middle;\n",
              "    }\n",
              "\n",
              "    .dataframe tbody tr th {\n",
              "        vertical-align: top;\n",
              "    }\n",
              "\n",
              "    .dataframe thead th {\n",
              "        text-align: right;\n",
              "    }\n",
              "</style>\n",
              "<table border=\"1\" class=\"dataframe\">\n",
              "  <thead>\n",
              "    <tr style=\"text-align: right;\">\n",
              "      <th></th>\n",
              "      <th>ScreenName</th>\n",
              "      <th>Weights</th>\n",
              "      <th>Count</th>\n",
              "    </tr>\n",
              "  </thead>\n",
              "  <tbody>\n",
              "    <tr>\n",
              "      <th>0</th>\n",
              "      <td>product_review</td>\n",
              "      <td>1623.662004</td>\n",
              "      <td>69657</td>\n",
              "    </tr>\n",
              "    <tr>\n",
              "      <th>1</th>\n",
              "      <td>home</td>\n",
              "      <td>316.614001</td>\n",
              "      <td>23711</td>\n",
              "    </tr>\n",
              "    <tr>\n",
              "      <th>2</th>\n",
              "      <td>scanpreview</td>\n",
              "      <td>17.911000</td>\n",
              "      <td>22119</td>\n",
              "    </tr>\n",
              "    <tr>\n",
              "      <th>3</th>\n",
              "      <td>verifyphone</td>\n",
              "      <td>68.123000</td>\n",
              "      <td>20967</td>\n",
              "    </tr>\n",
              "    <tr>\n",
              "      <th>4</th>\n",
              "      <td>location</td>\n",
              "      <td>135.608000</td>\n",
              "      <td>18970</td>\n",
              "    </tr>\n",
              "  </tbody>\n",
              "</table>\n",
              "</div>"
            ],
            "text/plain": [
              "       ScreenName      Weights  Count\n",
              "0  product_review  1623.662004  69657\n",
              "1            home   316.614001  23711\n",
              "2     scanpreview    17.911000  22119\n",
              "3     verifyphone    68.123000  20967\n",
              "4        location   135.608000  18970"
            ]
          },
          "metadata": {
            "tags": []
          },
          "execution_count": 15
        }
      ]
    },
    {
      "cell_type": "code",
      "metadata": {
        "id": "0SnsYAaA6ucE"
      },
      "source": [
        "# Most import screen which is more likely for conversion\n",
        "df_Summary['Screen_Avg_Weights'] = df_Summary.Weights*100/df_Summary.Count"
      ],
      "execution_count": null,
      "outputs": []
    },
    {
      "cell_type": "code",
      "metadata": {
        "id": "deLB__om68QR",
        "colab": {
          "base_uri": "https://localhost:8080/",
          "height": 204
        },
        "outputId": "58ec287a-8f7a-4844-a952-165c61c61f20"
      },
      "source": [
        "df_Summary[:][{'ScreenName','Screen_Avg_Weights'}].sort_values(by='Screen_Avg_Weights',ascending=False).head()"
      ],
      "execution_count": null,
      "outputs": [
        {
          "output_type": "execute_result",
          "data": {
            "text/html": [
              "<div>\n",
              "<style scoped>\n",
              "    .dataframe tbody tr th:only-of-type {\n",
              "        vertical-align: middle;\n",
              "    }\n",
              "\n",
              "    .dataframe tbody tr th {\n",
              "        vertical-align: top;\n",
              "    }\n",
              "\n",
              "    .dataframe thead th {\n",
              "        text-align: right;\n",
              "    }\n",
              "</style>\n",
              "<table border=\"1\" class=\"dataframe\">\n",
              "  <thead>\n",
              "    <tr style=\"text-align: right;\">\n",
              "      <th></th>\n",
              "      <th>ScreenName</th>\n",
              "      <th>Screen_Avg_Weights</th>\n",
              "    </tr>\n",
              "  </thead>\n",
              "  <tbody>\n",
              "    <tr>\n",
              "      <th>81</th>\n",
              "      <td>loan</td>\n",
              "      <td>38.363367</td>\n",
              "    </tr>\n",
              "    <tr>\n",
              "      <th>131</th>\n",
              "      <td>identityverification</td>\n",
              "      <td>13.900000</td>\n",
              "    </tr>\n",
              "    <tr>\n",
              "      <th>136</th>\n",
              "      <td>idandselfiecamerascreen</td>\n",
              "      <td>13.500001</td>\n",
              "    </tr>\n",
              "    <tr>\n",
              "      <th>121</th>\n",
              "      <td>employmentsummary</td>\n",
              "      <td>12.905263</td>\n",
              "    </tr>\n",
              "    <tr>\n",
              "      <th>101</th>\n",
              "      <td>loanappschedulecall</td>\n",
              "      <td>12.712903</td>\n",
              "    </tr>\n",
              "  </tbody>\n",
              "</table>\n",
              "</div>"
            ],
            "text/plain": [
              "                  ScreenName  Screen_Avg_Weights\n",
              "81                      loan           38.363367\n",
              "131     identityverification           13.900000\n",
              "136  idandselfiecamerascreen           13.500001\n",
              "121        employmentsummary           12.905263\n",
              "101      loanappschedulecall           12.712903"
            ]
          },
          "metadata": {
            "tags": []
          },
          "execution_count": 17
        }
      ]
    },
    {
      "cell_type": "code",
      "metadata": {
        "id": "BvmLTRYqzv9y"
      },
      "source": [
        ""
      ],
      "execution_count": null,
      "outputs": []
    }
  ]
}